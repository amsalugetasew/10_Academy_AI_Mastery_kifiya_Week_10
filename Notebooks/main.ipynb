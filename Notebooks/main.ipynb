{
 "cells": [
  {
   "cell_type": "markdown",
   "metadata": {},
   "source": [
    "## Imporing Important Packages"
   ]
  },
  {
   "cell_type": "code",
   "execution_count": 1,
   "metadata": {},
   "outputs": [],
   "source": [
    "import sys\n",
    "import os\n",
    "# Add Scripts folder to Python path\n",
    "sys.path.append(os.path.abspath(\"../Scripts\"))\n",
    "# Import DataLoader class\n",
    "from data_load import DataLoader\n",
    "from preprocessing import Preprocessing"
   ]
  },
  {
   "cell_type": "markdown",
   "metadata": {},
   "source": [
    "## Initialize Classes"
   ]
  },
  {
   "cell_type": "code",
   "execution_count": 2,
   "metadata": {},
   "outputs": [],
   "source": [
    "# Initialize DataLoader\n",
    "loader = DataLoader()"
   ]
  },
  {
   "cell_type": "markdown",
   "metadata": {},
   "source": [
    "## Loading Data"
   ]
  },
  {
   "cell_type": "code",
   "execution_count": 13,
   "metadata": {},
   "outputs": [],
   "source": [
    "# Load data\n",
    "df = loader.load_csv(\"BrentOilPrices.csv\")  # Replace with your file name"
   ]
  },
  {
   "cell_type": "markdown",
   "metadata": {},
   "source": [
    "## Previewing Sample Data"
   ]
  },
  {
   "cell_type": "code",
   "execution_count": 14,
   "metadata": {},
   "outputs": [
    {
     "data": {
      "text/html": [
       "<div>\n",
       "<style scoped>\n",
       "    .dataframe tbody tr th:only-of-type {\n",
       "        vertical-align: middle;\n",
       "    }\n",
       "\n",
       "    .dataframe tbody tr th {\n",
       "        vertical-align: top;\n",
       "    }\n",
       "\n",
       "    .dataframe thead th {\n",
       "        text-align: right;\n",
       "    }\n",
       "</style>\n",
       "<table border=\"1\" class=\"dataframe\">\n",
       "  <thead>\n",
       "    <tr style=\"text-align: right;\">\n",
       "      <th></th>\n",
       "      <th>Date</th>\n",
       "      <th>Price</th>\n",
       "    </tr>\n",
       "  </thead>\n",
       "  <tbody>\n",
       "    <tr>\n",
       "      <th>0</th>\n",
       "      <td>20-May-87</td>\n",
       "      <td>18.63</td>\n",
       "    </tr>\n",
       "    <tr>\n",
       "      <th>1</th>\n",
       "      <td>21-May-87</td>\n",
       "      <td>18.45</td>\n",
       "    </tr>\n",
       "    <tr>\n",
       "      <th>2</th>\n",
       "      <td>22-May-87</td>\n",
       "      <td>18.55</td>\n",
       "    </tr>\n",
       "    <tr>\n",
       "      <th>3</th>\n",
       "      <td>25-May-87</td>\n",
       "      <td>18.60</td>\n",
       "    </tr>\n",
       "    <tr>\n",
       "      <th>4</th>\n",
       "      <td>26-May-87</td>\n",
       "      <td>18.63</td>\n",
       "    </tr>\n",
       "    <tr>\n",
       "      <th>...</th>\n",
       "      <td>...</td>\n",
       "      <td>...</td>\n",
       "    </tr>\n",
       "    <tr>\n",
       "      <th>9006</th>\n",
       "      <td>Nov 08, 2022</td>\n",
       "      <td>96.85</td>\n",
       "    </tr>\n",
       "    <tr>\n",
       "      <th>9007</th>\n",
       "      <td>Nov 09, 2022</td>\n",
       "      <td>93.05</td>\n",
       "    </tr>\n",
       "    <tr>\n",
       "      <th>9008</th>\n",
       "      <td>Nov 10, 2022</td>\n",
       "      <td>94.25</td>\n",
       "    </tr>\n",
       "    <tr>\n",
       "      <th>9009</th>\n",
       "      <td>Nov 11, 2022</td>\n",
       "      <td>96.37</td>\n",
       "    </tr>\n",
       "    <tr>\n",
       "      <th>9010</th>\n",
       "      <td>Nov 14, 2022</td>\n",
       "      <td>93.59</td>\n",
       "    </tr>\n",
       "  </tbody>\n",
       "</table>\n",
       "<p>9011 rows × 2 columns</p>\n",
       "</div>"
      ],
      "text/plain": [
       "              Date  Price\n",
       "0        20-May-87  18.63\n",
       "1        21-May-87  18.45\n",
       "2        22-May-87  18.55\n",
       "3        25-May-87  18.60\n",
       "4        26-May-87  18.63\n",
       "...            ...    ...\n",
       "9006  Nov 08, 2022  96.85\n",
       "9007  Nov 09, 2022  93.05\n",
       "9008  Nov 10, 2022  94.25\n",
       "9009  Nov 11, 2022  96.37\n",
       "9010  Nov 14, 2022  93.59\n",
       "\n",
       "[9011 rows x 2 columns]"
      ]
     },
     "execution_count": 14,
     "metadata": {},
     "output_type": "execute_result"
    }
   ],
   "source": [
    "# Display Data\n",
    "df"
   ]
  },
  {
   "cell_type": "code",
   "execution_count": 15,
   "metadata": {},
   "outputs": [],
   "source": [
    "preprocessing = Preprocessing(df)"
   ]
  },
  {
   "cell_type": "code",
   "execution_count": 16,
   "metadata": {},
   "outputs": [
    {
     "name": "stderr",
     "output_type": "stream",
     "text": [
      "c:\\Users\\Admin\\10_Academy_AI_Mastery_kifiya_Week_10\\Scripts\\preprocessing.py:12: UserWarning: Could not infer format, so each element will be parsed individually, falling back to `dateutil`. To ensure parsing is consistent and as-expected, please specify a format.\n",
      "  self.data['Date'] = pd.to_datetime(self.data['Date'], errors='coerce')\n"
     ]
    },
    {
     "name": "stdout",
     "output_type": "stream",
     "text": [
      "Data preprocessing completed.\n"
     ]
    }
   ],
   "source": [
    "df = preprocessing.preprocess_data()"
   ]
  },
  {
   "cell_type": "code",
   "execution_count": 17,
   "metadata": {},
   "outputs": [
    {
     "data": {
      "text/html": [
       "<div>\n",
       "<style scoped>\n",
       "    .dataframe tbody tr th:only-of-type {\n",
       "        vertical-align: middle;\n",
       "    }\n",
       "\n",
       "    .dataframe tbody tr th {\n",
       "        vertical-align: top;\n",
       "    }\n",
       "\n",
       "    .dataframe thead th {\n",
       "        text-align: right;\n",
       "    }\n",
       "</style>\n",
       "<table border=\"1\" class=\"dataframe\">\n",
       "  <thead>\n",
       "    <tr style=\"text-align: right;\">\n",
       "      <th></th>\n",
       "      <th>Date</th>\n",
       "      <th>Price</th>\n",
       "    </tr>\n",
       "  </thead>\n",
       "  <tbody>\n",
       "    <tr>\n",
       "      <th>0</th>\n",
       "      <td>1987-05-20</td>\n",
       "      <td>18.63</td>\n",
       "    </tr>\n",
       "    <tr>\n",
       "      <th>1</th>\n",
       "      <td>1987-05-21</td>\n",
       "      <td>18.45</td>\n",
       "    </tr>\n",
       "    <tr>\n",
       "      <th>2</th>\n",
       "      <td>1987-05-22</td>\n",
       "      <td>18.55</td>\n",
       "    </tr>\n",
       "    <tr>\n",
       "      <th>3</th>\n",
       "      <td>1987-05-25</td>\n",
       "      <td>18.60</td>\n",
       "    </tr>\n",
       "    <tr>\n",
       "      <th>4</th>\n",
       "      <td>1987-05-26</td>\n",
       "      <td>18.63</td>\n",
       "    </tr>\n",
       "    <tr>\n",
       "      <th>...</th>\n",
       "      <td>...</td>\n",
       "      <td>...</td>\n",
       "    </tr>\n",
       "    <tr>\n",
       "      <th>9006</th>\n",
       "      <td>2022-11-08</td>\n",
       "      <td>96.85</td>\n",
       "    </tr>\n",
       "    <tr>\n",
       "      <th>9007</th>\n",
       "      <td>2022-11-09</td>\n",
       "      <td>93.05</td>\n",
       "    </tr>\n",
       "    <tr>\n",
       "      <th>9008</th>\n",
       "      <td>2022-11-10</td>\n",
       "      <td>94.25</td>\n",
       "    </tr>\n",
       "    <tr>\n",
       "      <th>9009</th>\n",
       "      <td>2022-11-11</td>\n",
       "      <td>96.37</td>\n",
       "    </tr>\n",
       "    <tr>\n",
       "      <th>9010</th>\n",
       "      <td>2022-11-14</td>\n",
       "      <td>93.59</td>\n",
       "    </tr>\n",
       "  </tbody>\n",
       "</table>\n",
       "<p>9011 rows × 2 columns</p>\n",
       "</div>"
      ],
      "text/plain": [
       "           Date  Price\n",
       "0    1987-05-20  18.63\n",
       "1    1987-05-21  18.45\n",
       "2    1987-05-22  18.55\n",
       "3    1987-05-25  18.60\n",
       "4    1987-05-26  18.63\n",
       "...         ...    ...\n",
       "9006 2022-11-08  96.85\n",
       "9007 2022-11-09  93.05\n",
       "9008 2022-11-10  94.25\n",
       "9009 2022-11-11  96.37\n",
       "9010 2022-11-14  93.59\n",
       "\n",
       "[9011 rows x 2 columns]"
      ]
     },
     "execution_count": 17,
     "metadata": {},
     "output_type": "execute_result"
    }
   ],
   "source": [
    "df"
   ]
  },
  {
   "cell_type": "code",
   "execution_count": 1,
   "metadata": {},
   "outputs": [],
   "source": [
    "# import matplotlib.pyplot as plt\n",
    "\n",
    "# # Plot the time series\n",
    "# plt.figure(figsize=(12, 6))\n",
    "# plt.plot(df['Date'], df['Price'], label='Brent Oil Price')\n",
    "# plt.xlabel('Date')\n",
    "# plt.ylabel('Price (USD)')\n",
    "# plt.title('Brent Oil Prices Over Time')\n",
    "# plt.legend()\n",
    "# plt.show()\n"
   ]
  },
  {
   "cell_type": "code",
   "execution_count": 2,
   "metadata": {},
   "outputs": [],
   "source": [
    "# from statsmodels.tsa.seasonal import seasonal_decompose\n",
    "\n",
    "# # Set Date as Index\n",
    "# df.set_index('Date', inplace=True)\n",
    "\n",
    "# # Decompose the time series\n",
    "# decomposition = seasonal_decompose(df['Price'], model='additive', period=365)\n",
    "\n",
    "# # Plot decomposition results\n",
    "# decomposition.plot()\n",
    "# plt.show()\n"
   ]
  },
  {
   "cell_type": "code",
   "execution_count": 21,
   "metadata": {},
   "outputs": [],
   "source": [
    "# pip install statsmodels"
   ]
  },
  {
   "cell_type": "code",
   "execution_count": 3,
   "metadata": {},
   "outputs": [],
   "source": [
    "# from statsmodels.tsa.stattools import adfuller\n",
    "\n",
    "# # Perform Augmented Dickey-Fuller test\n",
    "# result = adfuller(df['Price'])\n",
    "\n",
    "# # Print results\n",
    "# print(f'ADF Statistic: {result[0]}')\n",
    "# print(f'p-value: {result[1]}')\n",
    "# if result[1] < 0.05:\n",
    "#     print(\"The time series is stationary.\")\n",
    "# else:\n",
    "#     print(\"The time series is non-stationary. Differencing is required.\")\n"
   ]
  },
  {
   "cell_type": "code",
   "execution_count": 24,
   "metadata": {},
   "outputs": [],
   "source": [
    "df['Price_diff'] = df['Price'].diff().dropna()"
   ]
  },
  {
   "cell_type": "code",
   "execution_count": 4,
   "metadata": {},
   "outputs": [],
   "source": [
    "# from statsmodels.tsa.arima.model import ARIMA\n",
    "\n",
    "# # Fit ARIMA model (order values need tuning)\n",
    "# model = ARIMA(df['Price'], order=(1,1,1))\n",
    "# model_fit = model.fit()\n",
    "\n",
    "# # Forecast\n",
    "# forecast = model_fit.forecast(steps=30)\n",
    "# print(forecast)\n"
   ]
  },
  {
   "cell_type": "code",
   "execution_count": 5,
   "metadata": {},
   "outputs": [],
   "source": [
    "# # Fit ARIMA model (order values need tuning)\n",
    "# model = ARIMA(df['Price_diff'], order=(1,1,1))\n",
    "# model_fit = model.fit()\n",
    "\n",
    "# # Forecast\n",
    "# forecast = model_fit.forecast(steps=30)\n",
    "# print(forecast)"
   ]
  },
  {
   "cell_type": "code",
   "execution_count": 6,
   "metadata": {},
   "outputs": [],
   "source": [
    "# plt.figure(figsize=(12, 6))\n",
    "# plt.plot(df.index, df[\"Price\"], label=\"Brent Oil Price\")\n",
    "# plt.xlabel(\"Date\")\n",
    "# plt.ylabel(\"Price (USD)\")\n",
    "# plt.title(\"Brent Oil Prices Over Time\")\n",
    "# plt.legend()\n",
    "# plt.show()\n"
   ]
  },
  {
   "cell_type": "code",
   "execution_count": 7,
   "metadata": {},
   "outputs": [],
   "source": [
    "# from statsmodels.tsa.api import VAR\n",
    "\n",
    "# # Select relevant columns\n",
    "# var_data = df[['Price', 'GDP', 'Inflation', 'Unemployment', 'ExchangeRate']].dropna()\n",
    "\n",
    "# # Fit VAR model\n",
    "# model = VAR(var_data)\n",
    "# model_fitted = model.fit(maxlags=5)\n",
    "\n",
    "# # Forecast\n",
    "# forecast = model_fitted.forecast(var_data.values[-5:], steps=30)\n",
    "# print(forecast)\n"
   ]
  },
  {
   "cell_type": "code",
   "execution_count": 8,
   "metadata": {},
   "outputs": [],
   "source": [
    "# from statsmodels.tsa.regime_switching.markov_regression import MarkovRegression\n",
    "\n",
    "# # Fit Markov-Switching ARIMA\n",
    "# ms_model = MarkovRegression(df[\"Price\"], k_regimes=2, trend=\"c\", switching_variance=True)\n",
    "# ms_model_fitted = ms_model.fit()\n",
    "\n",
    "# # Predict regime\n",
    "# regime_prob = ms_model_fitted.smoothed_marginal_probabilities\n",
    "# print(regime_prob.tail())\n"
   ]
  },
  {
   "cell_type": "code",
   "execution_count": 9,
   "metadata": {},
   "outputs": [],
   "source": [
    "# import numpy as np\n",
    "# import tensorflow as tf\n",
    "# from tensorflow.keras.models import Sequential\n",
    "# from tensorflow.keras.layers import LSTM, Dense\n",
    "\n",
    "# # Prepare data\n",
    "# X = np.array(df[\"Price\"].values[:-1])\n",
    "# y = np.array(df[\"Price\"].values[1:])\n",
    "\n",
    "# X = X.reshape((X.shape[0], 1, 1))  # Reshape for LSTM\n",
    "\n",
    "# # Define LSTM model\n",
    "# model = Sequential([\n",
    "#     LSTM(50, activation=\"relu\", input_shape=(1,1)),\n",
    "#     Dense(1)\n",
    "# ])\n",
    "\n",
    "# model.compile(optimizer=\"adam\", loss=\"mse\")\n",
    "\n",
    "# # Train model\n",
    "# model.fit(X, y, epochs=50, verbose=0)\n",
    "\n",
    "# # Predict\n",
    "# forecast_lstm = model.predict(X[-30:])\n",
    "# print(forecast_lstm)\n"
   ]
  },
  {
   "cell_type": "code",
   "execution_count": 10,
   "metadata": {},
   "outputs": [],
   "source": [
    "# from sklearn.metrics import mean_squared_error, r2_score\n",
    "\n",
    "# def evaluate_model(y_true, y_pred, model_name):\n",
    "#     rmse = np.sqrt(mean_squared_error(y_true, y_pred))\n",
    "#     r2 = r2_score(y_true, y_pred)\n",
    "#     print(f\"{model_name} - RMSE: {rmse:.2f}, R-squared: {r2:.2f}\")\n",
    "\n",
    "# # Evaluate ARIMA, VAR, and LSTM\n",
    "# evaluate_model(processed_data[\"Price\"].values[1:], forecast, \"VAR\")\n",
    "# evaluate_model(processed_data[\"Price\"].values[-30:], forecast_lstm.flatten(), \"LSTM\")\n"
   ]
  }
 ],
 "metadata": {
  "kernelspec": {
   "display_name": "Python 3",
   "language": "python",
   "name": "python3"
  },
  "language_info": {
   "codemirror_mode": {
    "name": "ipython",
    "version": 3
   },
   "file_extension": ".py",
   "mimetype": "text/x-python",
   "name": "python",
   "nbconvert_exporter": "python",
   "pygments_lexer": "ipython3",
   "version": "3.10.11"
  }
 },
 "nbformat": 4,
 "nbformat_minor": 2
}
